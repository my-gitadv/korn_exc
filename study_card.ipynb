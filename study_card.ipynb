{
 "cells": [
  {
   "cell_type": "markdown",
   "metadata": {},
   "source": [
    "A deck of cards contains 52 cards starts from A(1) to K with\n",
    "4 suits which are clubs (♣), diamonds (♦), hearts (♥), and spades (♠)\n",
    "A 2 3 4 5 6 7 8 9 10 J Q K\n",
    "PART 1\n",
    "Try building a new deck and print the deck."
   ]
  },
  {
   "cell_type": "code",
   "execution_count": 1,
   "metadata": {},
   "outputs": [],
   "source": [
    "numbers = (\"A 2 3 4 5 6 7 8 9 10 J Q K\").split()\n",
    "# print('♣ ♦ ♥ ♠')\n",
    "# deck = []\n",
    "clubs = ('♣ ♦ ♥ ♠').split()"
   ]
  },
  {
   "cell_type": "code",
   "execution_count": 3,
   "metadata": {},
   "outputs": [
    {
     "name": "stdout",
     "output_type": "stream",
     "text": [
      "['A', '2', '3', '4', '5', '6', '7', '8', '9', '10', 'J', 'Q', 'K']\n",
      "['♣', '♦', '♥', '♠']\n"
     ]
    }
   ],
   "source": [
    "print(numbers)\n",
    "print(clubs)\n",
    "\n"
   ]
  },
  {
   "cell_type": "code",
   "execution_count": null,
   "metadata": {},
   "outputs": [],
   "source": [
    "# example => deck = [\"A♣\",\"2♣\",...,\"K♠\"] (52 elements)\n",
    "\n",
    "\n",
    "# Write your code here...\n",
    "def newDeck():\n",
    "  for i in clubs:\n",
    "    for j in number:\n",
    "      print(j + i)\n",
    "      deck.append(j + i)\n",
    "  return"
   ]
  },
  {
   "cell_type": "code",
   "execution_count": null,
   "metadata": {},
   "outputs": [],
   "source": [
    "# PART 2\n",
    "# Shuffle the deck\n",
    "import random\n",
    "\n",
    "\n",
    "# write your code here...\n",
    "def shuffle():\n",
    "  random.shuffle(deck)\n",
    "  return"
   ]
  },
  {
   "cell_type": "code",
   "execution_count": null,
   "metadata": {},
   "outputs": [],
   "source": [
    "# PART 3\n",
    "\n",
    "# Write a draw function that returns top of the deck, print number of the remaining card and add it to hand and dont forget to sort hand.\n",
    "\n",
    "hand = []\n",
    "\n",
    "\n",
    "def draw(n):\n",
    "  # Write your code here...\n",
    "  for i in range(n):\n",
    "    top = deck.pop(-1)\n",
    "    hand.append(top)\n",
    "  # print(top)\n",
    "\n",
    "  return"
   ]
  },
  {
   "cell_type": "code",
   "execution_count": null,
   "metadata": {},
   "outputs": [],
   "source": [
    "# PART 4\n",
    "\n",
    "\n",
    "# Write a function that raturn cards on hand onto the deck\n",
    "def handToDeck():\n",
    "  global hands\n",
    "  for i in hand :\n",
    "    deck.append(i)\n",
    "  hand = []\n",
    "  return "
   ]
  }
 ],
 "metadata": {
  "kernelspec": {
   "display_name": "Python 3",
   "language": "python",
   "name": "python3"
  },
  "language_info": {
   "codemirror_mode": {
    "name": "ipython",
    "version": 3
   },
   "file_extension": ".py",
   "mimetype": "text/x-python",
   "name": "python",
   "nbconvert_exporter": "python",
   "pygments_lexer": "ipython3",
   "version": "3.11.4"
  }
 },
 "nbformat": 4,
 "nbformat_minor": 2
}
